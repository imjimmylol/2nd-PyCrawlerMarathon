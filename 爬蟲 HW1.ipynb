{
 "cells": [
  {
   "cell_type": "code",
   "execution_count": 23,
   "metadata": {},
   "outputs": [],
   "source": [
    "from urllib.request import urlretrieve\n",
    "\n",
    "import os,sys"
   ]
  },
  {
   "cell_type": "code",
   "execution_count": 104,
   "metadata": {},
   "outputs": [],
   "source": [
    "try:    \n",
    "    os.makedirs('./data', exist_ok=True )#建立多層資料夾，層級為此程式所在位置\n",
    "    \n",
    "    dirs = os.listdir('./data') \n",
    "    \n",
    "    urlretrieve('https://www.w3.org/TR/PNG/iso_8859-1.txt', os.path.join('./data','Homework1'))\n",
    "    #下載檔案至指定位置 >data>檔名為homework1\n",
    "    #os函數是用來表示路徑\n",
    "    \n",
    "except:\n",
    "    print('錯誤')\n"
   ]
  },
  {
   "cell_type": "code",
   "execution_count": 101,
   "metadata": {},
   "outputs": [
    {
     "name": "stdout",
     "output_type": "stream",
     "text": [
      "[O] 檢查 Data 資料夾是否有 Homework1.txt 檔名之檔案\n",
      "['Homework1.txt']\n"
     ]
    }
   ],
   "source": [
    "files = []\n",
    "\n",
    "for file in dirs:\n",
    "    \n",
    "    files.append(file)\n",
    "\n",
    "if 'Homework1.txt' in files:\n",
    "    print('[O] 檢查 data 資料夾是否有 Homework1.txt 檔名之檔案')\n",
    "else:\n",
    "    print('[X] 檢查 data 資料夾是否有 Homework1.txt 檔名之檔案')\n",
    "\n",
    "print(files)"
   ]
  },
  {
   "cell_type": "code",
   "execution_count": 105,
   "metadata": {},
   "outputs": [
    {
     "name": "stdout",
     "output_type": "stream",
     "text": [
      "Hello World\n"
     ]
    }
   ],
   "source": [
    "f = ''\n",
    "\n",
    "with open(\"./data/Homework1.txt\", \"w\") as fh:\n",
    "\n",
    "    fh.write('Hello World')\n",
    "    \n",
    "\n",
    "try:\n",
    "    with open(\"./data/Homework1.txt\", \"r\") as fh:\n",
    "    \n",
    "        print(fh.read())\n",
    "        \n",
    "except EnvironmentError: # parent of IOError, OSError *and* WindowsError where available \n",
    "    pass"
   ]
  },
  {
   "cell_type": "code",
   "execution_count": 109,
   "metadata": {},
   "outputs": [
    {
     "name": "stdout",
     "output_type": "stream",
     "text": [
      "檢查完成\n"
     ]
    }
   ],
   "source": [
    "with open('./data/Homework1.txt','r') as a:\n",
    "\n",
    "    if len(a.read())==11:\n",
    "        print('檢查完成')\n",
    "    else:\n",
    "        print('qq')"
   ]
  }
 ],
 "metadata": {
  "kernelspec": {
   "display_name": "Python 3",
   "language": "python",
   "name": "python3"
  },
  "language_info": {
   "codemirror_mode": {
    "name": "ipython",
    "version": 3
   },
   "file_extension": ".py",
   "mimetype": "text/x-python",
   "name": "python",
   "nbconvert_exporter": "python",
   "pygments_lexer": "ipython3",
   "version": "3.7.4"
  }
 },
 "nbformat": 4,
 "nbformat_minor": 2
}
