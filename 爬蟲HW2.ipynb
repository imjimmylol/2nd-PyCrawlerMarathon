{
 "cells": [
  {
   "cell_type": "code",
   "execution_count": 11,
   "metadata": {},
   "outputs": [
    {
     "data": {
      "text/plain": [
       "('./data/example.csv', <http.client.HTTPMessage at 0x244160d2208>)"
      ]
     },
     "execution_count": 11,
     "metadata": {},
     "output_type": "execute_result"
    }
   ],
   "source": [
    "import urllib.request\n",
    "\n",
    "\n",
    "res = \"http://opendata.hccg.gov.tw/dataset/432257df-491f-4875-8b56-dd814aee5d7b/resource/de014c8b-9b75-4152-9fc6-f0d499cefbe4/download/20150305140446074.csv\"\n",
    "urllib.request.urlretrieve(res, './data/example.csv')\n"
   ]
  },
  {
   "cell_type": "code",
   "execution_count": 7,
   "metadata": {},
   "outputs": [
    {
     "name": "stdout",
     "output_type": "stream",
     "text": [
      "example.csv\n",
      "Homework1.txt\n"
     ]
    }
   ],
   "source": [
    "import os, sys\n",
    "\n",
    "# 打开文件\n",
    "dirs = os.listdir( './data' )\n",
    "\n",
    "# 输出所有文件和文件夹\n",
    "for file in dirs:\n",
    "    print(file)"
   ]
  },
  {
   "cell_type": "code",
   "execution_count": 6,
   "metadata": {},
   "outputs": [],
   "source": [
    "with open('./data/example.csv','r',newline='',encoding='utf-8') as fh:\n",
    "    \n",
    "    f = fh.read()\n",
    "    \n"
   ]
  },
  {
   "cell_type": "code",
   "execution_count": 8,
   "metadata": {},
   "outputs": [
    {
     "name": "stdout",
     "output_type": "stream",
     "text": [
      "06:30\n",
      "06:32\n",
      "06:33\n",
      "06:34\n",
      "06:36\n",
      "06:38\n",
      "06:39\n",
      "06:41\n",
      "06:42\n",
      "06:43\n",
      "06:44\n",
      "06:45\n",
      "06:46\n",
      "06:47\n",
      "06:48\n",
      "06:49\n",
      "06:50\n",
      "06:51\n",
      "06:53\n",
      "06:55\n",
      "06:57\n",
      "06:58\n",
      "07:00\n",
      "07:01\n",
      "07:03\n",
      "07:05\n",
      "07:07\n",
      "07:09\n",
      "07:10\n",
      "07:12\n",
      "07:14\n",
      "07:16\n",
      "07:18\n",
      "07:20\n",
      "07:21\n",
      "07:23\n",
      "07:24\n",
      "07:25\n",
      "07:00\n",
      "07:02\n",
      "07:03\n",
      "07:04\n",
      "07:06\n",
      "07:08\n",
      "07:09\n",
      "07:11\n",
      "07:12\n",
      "07:13\n",
      "07:14\n",
      "07:15\n",
      "07:16\n",
      "07:17\n",
      "07:18\n",
      "07:19\n",
      "07:20\n",
      "07:21\n",
      "07:23\n",
      "07:25\n",
      "07:27\n",
      "07:28\n",
      "07:30\n",
      "07:31\n",
      "07:33\n",
      "07:35\n",
      "07:37\n",
      "07:39\n",
      "07:40\n",
      "07:42\n",
      "07:44\n",
      "07:46\n",
      "07:48\n",
      "07:49\n",
      "07:51\n",
      "07:53\n",
      "07:54\n",
      "07:55\n"
     ]
    }
   ],
   "source": [
    "#1取出班次一的每一個時間\n",
    "import csv\n",
    "\n",
    "with open('./data/example.csv',newline='',encoding = 'utf-8') as a:\n",
    "    \n",
    "        rows = csv.DictReader(a)\n",
    "        \n",
    "        for row in rows:\n",
    "            print(row['班次1'])"
   ]
  },
  {
   "cell_type": "code",
   "execution_count": 10,
   "metadata": {},
   "outputs": [],
   "source": [
    "# 2. 將班次一的每一個時間用一種資料型態保存\n",
    "import csv\n",
    "li=[]\n",
    "\n",
    "with open('./data/example.csv',newline='',encoding = 'utf-8') as a:\n",
    "\n",
    "    rows = csv.DictReader(a) #將CSV轉換成DICTIONARY的方式讀取\n",
    "    \n",
    "    for row in rows:\n",
    "    \n",
    "        li.append(row['班次1'])\n",
    "        \n"
   ]
  },
  {
   "cell_type": "code",
   "execution_count": 23,
   "metadata": {
    "scrolled": true
   },
   "outputs": [
    {
     "ename": "TypeError",
     "evalue": "'_csv.reader' object is not subscriptable",
     "output_type": "error",
     "traceback": [
      "\u001b[1;31m---------------------------------------------------------------------------\u001b[0m",
      "\u001b[1;31mTypeError\u001b[0m                                 Traceback (most recent call last)",
      "\u001b[1;32m<ipython-input-23-105626921d0b>\u001b[0m in \u001b[0;36m<module>\u001b[1;34m\u001b[0m\n\u001b[0;32m      7\u001b[0m     \u001b[0mrows\u001b[0m \u001b[1;33m=\u001b[0m \u001b[0mcsv\u001b[0m\u001b[1;33m.\u001b[0m\u001b[0mreader\u001b[0m\u001b[1;33m(\u001b[0m\u001b[0mcsvfile\u001b[0m\u001b[1;33m)\u001b[0m\u001b[1;33m\u001b[0m\u001b[1;33m\u001b[0m\u001b[0m\n\u001b[0;32m      8\u001b[0m     \u001b[1;31m# 以迴圈輸出每一列\u001b[0m\u001b[1;33m\u001b[0m\u001b[1;33m\u001b[0m\u001b[1;33m\u001b[0m\u001b[0m\n\u001b[1;32m----> 9\u001b[1;33m     \u001b[1;32mfor\u001b[0m \u001b[0mrow\u001b[0m \u001b[1;32min\u001b[0m \u001b[0mrows\u001b[0m\u001b[1;33m[\u001b[0m\u001b[1;36m1\u001b[0m\u001b[1;33m]\u001b[0m\u001b[1;33m:\u001b[0m\u001b[1;33m\u001b[0m\u001b[1;33m\u001b[0m\u001b[0m\n\u001b[0m\u001b[0;32m     10\u001b[0m \u001b[1;33m\u001b[0m\u001b[0m\n\u001b[0;32m     11\u001b[0m         \u001b[0mprint\u001b[0m\u001b[1;33m(\u001b[0m\u001b[0mrow\u001b[0m\u001b[1;33m)\u001b[0m\u001b[1;33m\u001b[0m\u001b[1;33m\u001b[0m\u001b[0m\n",
      "\u001b[1;31mTypeError\u001b[0m: '_csv.reader' object is not subscriptable"
     ]
    }
   ],
   "source": [
    "# 3. 將班次一到五與其所有時間用一種資料型態個別保存\n",
    "\n",
    "import csv\n",
    "\n",
    "with open('./data/example.csv', newline='',encoding = 'utf-8') as csvfile:\n",
    "\n",
    "    rows = csv.reader(csvfile)\n",
    "    # 以迴圈輸出每一列\n",
    "    for row in rows[1]:\n",
    "        \n",
    "        print(row)\n",
    "        \n",
    "    \n"
   ]
  },
  {
   "cell_type": "code",
   "execution_count": null,
   "metadata": {},
   "outputs": [],
   "source": []
  },
  {
   "cell_type": "code",
   "execution_count": null,
   "metadata": {},
   "outputs": [],
   "source": []
  }
 ],
 "metadata": {
  "kernelspec": {
   "display_name": "Python 3",
   "language": "python",
   "name": "python3"
  },
  "language_info": {
   "codemirror_mode": {
    "name": "ipython",
    "version": 3
   },
   "file_extension": ".py",
   "mimetype": "text/x-python",
   "name": "python",
   "nbconvert_exporter": "python",
   "pygments_lexer": "ipython3",
   "version": "3.7.4"
  }
 },
 "nbformat": 4,
 "nbformat_minor": 2
}
